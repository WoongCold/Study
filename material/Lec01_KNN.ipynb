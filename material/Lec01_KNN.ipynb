{
 "cells": [
  {
   "cell_type": "code",
   "execution_count": 113,
   "id": "a06d8f38",
   "metadata": {},
   "outputs": [],
   "source": [
    "bream_length = [25.4, 26.3, 26.5, 29.0, 29.0, 29.7, 29.7, 30.0, 30.0, 30.7, 31.0, 31.0, 31.5, 32.0, 32.0, 32.0, 33.0, 33.0, 33.5, 33.5, 34.0, 34.0, 34.5, 35.0, 35.0, 35.0, 35.0, 36.0, 36.0, 37.0, 38.5, 38.5, 39.5, 41.0, 41.0]"
   ]
  },
  {
   "cell_type": "code",
   "execution_count": 114,
   "id": "57278b84",
   "metadata": {},
   "outputs": [],
   "source": [
    "bream_weight = [242, 290, 340, 363, 430, 450, 500, 390, 450, 500, 475, 500, 500, 340, 600, 600, 700, 700, 610, 650, 575, 685, 620, 680, 700, 725, 720, 714, 850, 1000, 920, 955, 925, 975, 950]"
   ]
  },
  {
   "cell_type": "code",
   "execution_count": 115,
   "id": "b8a30dc8",
   "metadata": {},
   "outputs": [],
   "source": [
    "smelt_length = [9.8, 10.5, 10.6, 11.0, 11.2, 11.3, 11.8, 11.8, 12.0, 12.2, 12.4, 13.0, 14.3, 15.0]"
   ]
  },
  {
   "cell_type": "code",
   "execution_count": 116,
   "id": "3bc250d0",
   "metadata": {},
   "outputs": [],
   "source": [
    "smelt_weight = [6.7, 7.5, 7.0, 9.7, 9.8, 8.7, 10.0, 9.9, 9.8, 12.2, 13.4, 12.2, 19.7, 19.9]"
   ]
  },
  {
   "cell_type": "code",
   "execution_count": 117,
   "id": "f76fec0c",
   "metadata": {},
   "outputs": [],
   "source": [
    "import matplotlib.pyplot as plt\n",
    "import numpy as np"
   ]
  },
  {
   "cell_type": "code",
   "execution_count": 118,
   "id": "0469e4f4",
   "metadata": {},
   "outputs": [
    {
     "data": {
      "image/png": "[encoded data removed]",
      "text/plain": [
       "<Figure size 432x288 with 1 Axes>"
      ]
     },
     "metadata": {
      "needs_background": "light"
     },
     "output_type": "display_data"
    }
   ],
   "source": [
    "plt.scatter(bream_length, bream_weight)\n",
    "plt.xlabel('length')\n",
    "plt.ylabel('weight')\n",
    "\n",
    "plt.show()"
   ]
  },
  {
   "cell_type": "code",
   "execution_count": 119,
   "id": "19a79a14",
   "metadata": {},
   "outputs": [
    {
     "data": {
      "image/png": "[encoded data removed]",
      "text/plain": [
       "<Figure size 432x288 with 1 Axes>"
      ]
     },
     "metadata": {
      "needs_background": "light"
     },
     "output_type": "display_data"
    }
   ],
   "source": [
    "plt.scatter(smelt_length, smelt_weight)\n",
    "plt.xlabel('length')\n",
    "plt.ylabel('weight')\n",
    "\n",
    "plt.show()"
   ]
  },
  {
   "cell_type": "code",
   "execution_count": 120,
   "id": "39b2bc9e",
   "metadata": {},
   "outputs": [
    {
     "data": {
      "image/png": "[encoded data removed]",
      "text/plain": [
       "<Figure size 432x288 with 1 Axes>"
      ]
     },
     "metadata": {
      "needs_background": "light"
     },
     "output_type": "display_data"
    }
   ],
   "source": [
    "plt.scatter(bream_length, bream_weight)\n",
    "plt.scatter(smelt_length, smelt_weight)\n",
    "plt.xlabel('length')\n",
    "plt.ylabel('weight')\n",
    "\n",
    "plt.show()"
   ]
  },
  {
   "cell_type": "code",
   "execution_count": 121,
   "id": "5bca47a6",
   "metadata": {},
   "outputs": [],
   "source": [
    "length = bream_length + smelt_length\n",
    "weight = bream_weight + smelt_weight"
   ]
  },
  {
   "cell_type": "code",
   "execution_count": 122,
   "id": "fefed085",
   "metadata": {},
   "outputs": [
    {
     "data": {
      "text/plain": [
       "[[25.4, 242],\n",
       " [26.3, 290],\n",
       " [26.5, 340],\n",
       " [29.0, 363],\n",
       " [29.0, 430],\n",
       " [29.7, 450],\n",
       " [29.7, 500],\n",
       " [30.0, 390],\n",
       " [30.0, 450],\n",
       " [30.7, 500],\n",
       " [31.0, 475],\n",
       " [31.0, 500],\n",
       " [31.5, 500],\n",
       " [32.0, 340],\n",
       " [32.0, 600],\n",
       " [32.0, 600],\n",
       " [33.0, 700],\n",
       " [33.0, 700],\n",
       " [33.5, 610],\n",
       " [33.5, 650],\n",
       " [34.0, 575],\n",
       " [34.0, 685],\n",
       " [34.5, 620],\n",
       " [35.0, 680],\n",
       " [35.0, 700],\n",
       " [35.0, 725],\n",
       " [35.0, 720],\n",
       " [36.0, 714],\n",
       " [36.0, 850],\n",
       " [37.0, 1000],\n",
       " [38.5, 920],\n",
       " [38.5, 955],\n",
       " [39.5, 925],\n",
       " [41.0, 975],\n",
       " [41.0, 950],\n",
       " [9.8, 6.7],\n",
       " [10.5, 7.5],\n",
       " [10.6, 7.0],\n",
       " [11.0, 9.7],\n",
       " [11.2, 9.8],\n",
       " [11.3, 8.7],\n",
       " [11.8, 10.0],\n",
       " [11.8, 9.9],\n",
       " [12.0, 9.8],\n",
       " [12.2, 12.2],\n",
       " [12.4, 13.4],\n",
       " [13.0, 12.2],\n",
       " [14.3, 19.7],\n",
       " [15.0, 19.9]]"
      ]
     },
     "execution_count": 122,
     "metadata": {},
     "output_type": "execute_result"
    }
   ],
   "source": [
    "fish_data = [[l,w] for l,w in zip(length, weight)]\n",
    "fish_data"
   ]
  },
  {
   "cell_type": "code",
   "execution_count": 202,
   "id": "1d4167cb",
   "metadata": {},
   "outputs": [
    {
     "name": "stdout",
     "output_type": "stream",
     "text": [
      "['bream', 'bream', 'bream', 'bream', 'bream', 'bream', 'bream', 'bream', 'bream', 'bream', 'bream', 'bream', 'bream', 'bream', 'bream', 'bream', 'bream', 'bream', 'bream', 'bream', 'bream', 'bream', 'bream', 'bream', 'bream', 'bream', 'bream', 'bream', 'bream', 'bream', 'bream', 'bream', 'bream', 'bream', 'bream', 'smelt', 'smelt', 'smelt', 'smelt', 'smelt', 'smelt', 'smelt', 'smelt', 'smelt', 'smelt', 'smelt', 'smelt', 'smelt', 'smelt']\n"
     ]
    }
   ],
   "source": [
    "fish_target = [\"bream\"]*35 + [\"smelt\"]*14\n",
    "print(fish_target)"
   ]
  },
  {
   "cell_type": "code",
   "execution_count": 136,
   "id": "69e7c3b7",
   "metadata": {},
   "outputs": [],
   "source": [
    "train_input = fish_data[:35]"
   ]
  },
  {
   "cell_type": "code",
   "execution_count": 137,
   "id": "2b7b567f",
   "metadata": {},
   "outputs": [],
   "source": [
    "train_target = fish_target[:35]"
   ]
  },
  {
   "cell_type": "code",
   "execution_count": 138,
   "id": "67f1bc8a",
   "metadata": {},
   "outputs": [],
   "source": [
    "test_input = fish_data[35:]"
   ]
  },
  {
   "cell_type": "code",
   "execution_count": 139,
   "id": "61c79b91",
   "metadata": {},
   "outputs": [],
   "source": [
    "test_target = fish_target[35:]"
   ]
  },
  {
   "cell_type": "code",
   "execution_count": 128,
   "id": "1ad3e6b7",
   "metadata": {},
   "outputs": [
    {
     "data": {
      "text/plain": [
       "KNeighborsClassifier()"
      ]
     },
     "execution_count": 128,
     "metadata": {},
     "output_type": "execute_result"
    }
   ],
   "source": [
    "kn = KNeighborsClassifier()\n",
    "kn.fit(train_input, train_target)"
   ]
  },
  {
   "cell_type": "code",
   "execution_count": 129,
   "id": "562c29bc",
   "metadata": {},
   "outputs": [
    {
     "data": {
      "text/plain": [
       "0.0"
      ]
     },
     "execution_count": 129,
     "metadata": {},
     "output_type": "execute_result"
    }
   ],
   "source": [
    "kn.score(test_input, test_target)"
   ]
  },
  {
   "cell_type": "code",
   "execution_count": 130,
   "id": "a38177d2",
   "metadata": {},
   "outputs": [
    {
     "data": {
      "text/plain": [
       "array([1])"
      ]
     },
     "execution_count": 130,
     "metadata": {},
     "output_type": "execute_result"
    }
   ],
   "source": [
    "kn.predict([[11,16]])"
   ]
  },
  {
   "cell_type": "code",
   "execution_count": 177,
   "id": "42905c04",
   "metadata": {},
   "outputs": [],
   "source": [
    "input_arr = np.array(fish_data)"
   ]
  },
  {
   "cell_type": "code",
   "execution_count": 203,
   "id": "b16abb42",
   "metadata": {},
   "outputs": [],
   "source": [
    "target_arr = np.array(fish_target)"
   ]
  },
  {
   "cell_type": "code",
   "execution_count": 204,
   "id": "5adbe52a",
   "metadata": {},
   "outputs": [
    {
     "name": "stdout",
     "output_type": "stream",
     "text": [
      "['bream', 'bream', 'bream', 'bream', 'bream', 'bream', 'bream', 'bream', 'bream', 'bream', 'bream', 'bream', 'bream', 'bream', 'bream', 'bream', 'bream', 'bream', 'bream', 'bream', 'bream', 'bream', 'bream', 'bream', 'bream', 'bream', 'bream', 'bream', 'bream', 'bream', 'bream', 'bream', 'bream', 'bream', 'bream', 'smelt', 'smelt', 'smelt', 'smelt', 'smelt', 'smelt', 'smelt', 'smelt', 'smelt', 'smelt', 'smelt', 'smelt', 'smelt', 'smelt']\n"
     ]
    }
   ],
   "source": [
    "print(fish_target)"
   ]
  },
  {
   "cell_type": "code",
   "execution_count": 154,
   "id": "d3aaf0c9",
   "metadata": {},
   "outputs": [],
   "source": [
    "np.random.seed(42)"
   ]
  },
  {
   "cell_type": "markdown",
   "id": "0114ab65",
   "metadata": {},
   "source": [
    "## 데이터 섞기"
   ]
  },
  {
   "cell_type": "code",
   "execution_count": 205,
   "id": "edf5d31c",
   "metadata": {},
   "outputs": [],
   "source": [
    "index = np.arange(42)\n",
    "np.random.shuffle(index)"
   ]
  },
  {
   "cell_type": "code",
   "execution_count": 206,
   "id": "4e76944c",
   "metadata": {},
   "outputs": [
    {
     "name": "stdout",
     "output_type": "stream",
     "text": [
      "[ 2 40 39 33  8 29  3 41 20 35 31 32  4 27 10 17 37  5  9 16 26 21 36  1\n",
      " 14 22 18 11 30 15 13  7  0 19  6 12 23 24 34 25 28 38]\n"
     ]
    }
   ],
   "source": [
    "print(index)"
   ]
  },
  {
   "cell_type": "code",
   "execution_count": 207,
   "id": "68ca182d",
   "metadata": {},
   "outputs": [],
   "source": [
    "train_input = input_arr[index[:35]]\n",
    "train_target = target_arr[index[:35]]"
   ]
  },
  {
   "cell_type": "code",
   "execution_count": 200,
   "id": "8ae2233f",
   "metadata": {
    "scrolled": true
   },
   "outputs": [
    {
     "name": "stdout",
     "output_type": "stream",
     "text": [
      "[ 32. 340.] [11.2  9.8]\n"
     ]
    }
   ],
   "source": [
    "print(input_arr[13], train_input[13])"
   ]
  },
  {
   "cell_type": "code",
   "execution_count": 208,
   "id": "1452ff51",
   "metadata": {},
   "outputs": [],
   "source": [
    "test_input = input_arr[index[35:]]\n",
    "test_target = target_arr[index[35:]]"
   ]
  },
  {
   "cell_type": "code",
   "execution_count": 209,
   "id": "ce02e915",
   "metadata": {},
   "outputs": [
    {
     "data": {
      "text/plain": [
       "KNeighborsClassifier()"
      ]
     },
     "execution_count": 209,
     "metadata": {},
     "output_type": "execute_result"
    }
   ],
   "source": [
    "kn = KNeighborsClassifier()\n",
    "kn.fit(train_input, train_target)"
   ]
  },
  {
   "cell_type": "code",
   "execution_count": 210,
   "id": "2bf2f376",
   "metadata": {},
   "outputs": [
    {
     "data": {
      "text/plain": [
       "1.0"
      ]
     },
     "execution_count": 210,
     "metadata": {},
     "output_type": "execute_result"
    }
   ],
   "source": [
    "kn.score(test_input, test_target)"
   ]
  },
  {
   "cell_type": "code",
   "execution_count": 211,
   "id": "0cc54b3c",
   "metadata": {},
   "outputs": [
    {
     "name": "stdout",
     "output_type": "stream",
     "text": [
      "[[ 31.5 500. ]\n",
      " [ 35.  680. ]\n",
      " [ 35.  700. ]\n",
      " [ 41.  950. ]\n",
      " [ 35.  725. ]\n",
      " [ 36.  850. ]\n",
      " [ 11.    9.7]]\n"
     ]
    }
   ],
   "source": [
    "print(test_input)"
   ]
  },
  {
   "cell_type": "code",
   "execution_count": 212,
   "id": "b1a15326",
   "metadata": {},
   "outputs": [
    {
     "name": "stdout",
     "output_type": "stream",
     "text": [
      "[[  26.5  340. ]\n",
      " [  11.3    8.7]\n",
      " [  11.2    9.8]\n",
      " [  41.   975. ]\n",
      " [  30.   450. ]\n",
      " [  37.  1000. ]\n",
      " [  29.   363. ]\n",
      " [  11.8   10. ]\n",
      " [  34.   575. ]\n",
      " [   9.8    6.7]\n",
      " [  38.5  955. ]\n",
      " [  39.5  925. ]\n",
      " [  29.   430. ]\n",
      " [  36.   714. ]\n",
      " [  31.   475. ]\n",
      " [  33.   700. ]\n",
      " [  10.6    7. ]\n",
      " [  29.7  450. ]\n",
      " [  30.7  500. ]\n",
      " [  33.   700. ]\n",
      " [  35.   720. ]\n",
      " [  34.   685. ]\n",
      " [  10.5    7.5]\n",
      " [  26.3  290. ]\n",
      " [  32.   600. ]\n",
      " [  34.5  620. ]\n",
      " [  33.5  610. ]\n",
      " [  31.   500. ]\n",
      " [  38.5  920. ]\n",
      " [  32.   600. ]\n",
      " [  32.   340. ]\n",
      " [  30.   390. ]\n",
      " [  25.4  242. ]\n",
      " [  33.5  650. ]\n",
      " [  29.7  500. ]]\n"
     ]
    }
   ],
   "source": [
    "print(train_input)"
   ]
  },
  {
   "cell_type": "code",
   "execution_count": 220,
   "id": "2b0ea426",
   "metadata": {},
   "outputs": [
    {
     "data": {
      "image/png": "[encoded data removed]",
      "text/plain": [
       "<Figure size 432x288 with 1 Axes>"
      ]
     },
     "metadata": {
      "needs_background": "light"
     },
     "output_type": "display_data"
    }
   ],
   "source": [
    "plt.scatter(bream_length, bream_weight)\n",
    "plt.scatter(smelt_length, smelt_weight)\n",
    "plt.scatter(21,150, marker='^')\n",
    "plt.xlabel('length')\n",
    "plt.ylabel('weight')\n",
    "\n",
    "plt.show()"
   ]
  },
  {
   "cell_type": "code",
   "execution_count": 215,
   "id": "ce5ae2ad",
   "metadata": {},
   "outputs": [
    {
     "data": {
      "text/plain": [
       "array(['smelt'], dtype='<U5')"
      ]
     },
     "execution_count": 215,
     "metadata": {},
     "output_type": "execute_result"
    }
   ],
   "source": [
    "kn.predict([[20,16]])"
   ]
  },
  {
   "cell_type": "code",
   "execution_count": 218,
   "id": "33076a2c",
   "metadata": {},
   "outputs": [
    {
     "data": {
      "text/plain": [
       "array(['bream'], dtype='<U5')"
      ]
     },
     "execution_count": 218,
     "metadata": {},
     "output_type": "execute_result"
    }
   ],
   "source": [
    "kn.predict([[11,1000]])"
   ]
  },
  {
   "cell_type": "code",
   "execution_count": 219,
   "id": "ae2c562b",
   "metadata": {},
   "outputs": [
    {
     "data": {
      "text/plain": [
       "array(['smelt'], dtype='<U5')"
      ]
     },
     "execution_count": 219,
     "metadata": {},
     "output_type": "execute_result"
    }
   ],
   "source": [
    "kn.predict([[21,150]])"
   ]
  },
  {
   "cell_type": "code",
   "execution_count": null,
   "id": "774f8e70",
   "metadata": {},
   "outputs": [],
   "source": []
  },
  {
   "cell_type": "code",
   "execution_count": null,
   "id": "bf208882",
   "metadata": {},
   "outputs": [],
   "source": []
  },
  {
   "cell_type": "code",
   "execution_count": 26,
   "id": "e2cd2ae3",
   "metadata": {},
   "outputs": [],
   "source": [
    "from sklearn.neighbors import KNeighborsClassifier"
   ]
  },
  {
   "cell_type": "code",
   "execution_count": 40,
   "id": "28de4fca",
   "metadata": {},
   "outputs": [
    {
     "data": {
      "text/plain": [
       "KNeighborsClassifier()"
      ]
     },
     "execution_count": 40,
     "metadata": {},
     "output_type": "execute_result"
    }
   ],
   "source": [
    "kn = KNeighborsClassifier()\n",
    "kn.fit(fish_data, fish_target)"
   ]
  },
  {
   "cell_type": "code",
   "execution_count": 41,
   "id": "a55c959a",
   "metadata": {},
   "outputs": [
    {
     "data": {
      "text/plain": [
       "1.0"
      ]
     },
     "execution_count": 41,
     "metadata": {},
     "output_type": "execute_result"
    }
   ],
   "source": [
    "kn.score(fish_data, fish_target)"
   ]
  },
  {
   "cell_type": "code",
   "execution_count": 44,
   "id": "05232a96",
   "metadata": {},
   "outputs": [
    {
     "data": {
      "image/png": "[encoded data removed]",
      "text/plain": [
       "<Figure size 432x288 with 1 Axes>"
      ]
     },
     "metadata": {
      "needs_background": "light"
     },
     "output_type": "display_data"
    }
   ],
   "source": [
    "plt.scatter(bream_length, bream_weight)\n",
    "plt.scatter(smelt_length, smelt_weight)\n",
    "plt.scatter(30,600, marker='^')\n",
    "plt.xlabel('length')\n",
    "plt.ylabel('weight')\n",
    "\n",
    "plt.show()"
   ]
  },
  {
   "cell_type": "code",
   "execution_count": 45,
   "id": "776a66a0",
   "metadata": {},
   "outputs": [
    {
     "data": {
      "text/plain": [
       "array([1])"
      ]
     },
     "execution_count": 45,
     "metadata": {},
     "output_type": "execute_result"
    }
   ],
   "source": [
    "kn.predict([[30,600]])"
   ]
  },
  {
   "cell_type": "code",
   "execution_count": 46,
   "id": "18a4b467",
   "metadata": {},
   "outputs": [
    {
     "name": "stdout",
     "output_type": "stream",
     "text": [
      "[[  25.4  242. ]\n",
      " [  26.3  290. ]\n",
      " [  26.5  340. ]\n",
      " [  29.   363. ]\n",
      " [  29.   430. ]\n",
      " [  29.7  450. ]\n",
      " [  29.7  500. ]\n",
      " [  30.   390. ]\n",
      " [  30.   450. ]\n",
      " [  30.7  500. ]\n",
      " [  31.   475. ]\n",
      " [  31.   500. ]\n",
      " [  31.5  500. ]\n",
      " [  32.   340. ]\n",
      " [  32.   600. ]\n",
      " [  32.   600. ]\n",
      " [  33.   700. ]\n",
      " [  33.   700. ]\n",
      " [  33.5  610. ]\n",
      " [  33.5  650. ]\n",
      " [  34.   575. ]\n",
      " [  34.   685. ]\n",
      " [  34.5  620. ]\n",
      " [  35.   680. ]\n",
      " [  35.   700. ]\n",
      " [  35.   725. ]\n",
      " [  35.   720. ]\n",
      " [  36.   714. ]\n",
      " [  36.   850. ]\n",
      " [  37.  1000. ]\n",
      " [  38.5  920. ]\n",
      " [  38.5  955. ]\n",
      " [  39.5  925. ]\n",
      " [  41.   975. ]\n",
      " [  41.   950. ]\n",
      " [   9.8    6.7]\n",
      " [  10.5    7.5]\n",
      " [  10.6    7. ]\n",
      " [  11.     9.7]\n",
      " [  11.2    9.8]\n",
      " [  11.3    8.7]\n",
      " [  11.8   10. ]\n",
      " [  11.8    9.9]\n",
      " [  12.     9.8]\n",
      " [  12.2   12.2]\n",
      " [  12.4   13.4]\n",
      " [  13.    12.2]\n",
      " [  14.3   19.7]\n",
      " [  15.    19.9]]\n"
     ]
    }
   ],
   "source": [
    "print(kn._fit_X)"
   ]
  },
  {
   "cell_type": "code",
   "execution_count": 47,
   "id": "3d328618",
   "metadata": {},
   "outputs": [
    {
     "name": "stdout",
     "output_type": "stream",
     "text": [
      "[1 1 1 1 1 1 1 1 1 1 1 1 1 1 1 1 1 1 1 1 1 1 1 1 1 1 1 1 1 1 1 1 1 1 1 0 0\n",
      " 0 0 0 0 0 0 0 0 0 0 0 0]\n"
     ]
    }
   ],
   "source": [
    "print(kn._y)"
   ]
  },
  {
   "cell_type": "code",
   "execution_count": 55,
   "id": "162b703b",
   "metadata": {},
   "outputs": [],
   "source": [
    "kn49 = KNeighborsClassifier(n_neighbors=49)"
   ]
  },
  {
   "cell_type": "code",
   "execution_count": 56,
   "id": "60421364",
   "metadata": {},
   "outputs": [
    {
     "data": {
      "text/plain": [
       "0.7142857142857143"
      ]
     },
     "execution_count": 56,
     "metadata": {},
     "output_type": "execute_result"
    }
   ],
   "source": [
    "kn49.fit(fish_data, fish_target)\n",
    "kn49.score(fish_data, fish_target)"
   ]
  },
  {
   "cell_type": "code",
   "execution_count": 57,
   "id": "9a0accc7",
   "metadata": {},
   "outputs": [
    {
     "name": "stdout",
     "output_type": "stream",
     "text": [
      "0.7142857142857143\n"
     ]
    }
   ],
   "source": [
    "print(35/49)"
   ]
  },
  {
   "cell_type": "code",
   "execution_count": 58,
   "id": "ac357f25",
   "metadata": {},
   "outputs": [
    {
     "data": {
      "text/plain": [
       "KNeighborsClassifier()"
      ]
     },
     "execution_count": 58,
     "metadata": {},
     "output_type": "execute_result"
    }
   ],
   "source": [
    "kn = KNeighborsClassifier()\n",
    "kn.fit(fish_data, fish_target)"
   ]
  },
  {
   "cell_type": "code",
   "execution_count": 60,
   "id": "8fc7db93",
   "metadata": {},
   "outputs": [
    {
     "name": "stdout",
     "output_type": "stream",
     "text": [
      "18 0.9795918367346939\n"
     ]
    }
   ],
   "source": [
    "for n in range(5,50):\n",
    "    # 최근접 이웃 개수 설정\n",
    "    kn.n_neighbors = n\n",
    "    # 점수계산\n",
    "    score = kn.score(fish_data, fish_target)\n",
    "    # 100% 정확도에 미치지 못하는 이웃 개수 출력\n",
    "    if score < 1:\n",
    "        print(n, score)\n",
    "        break"
   ]
  },
  {
   "cell_type": "code",
   "execution_count": null,
   "id": "9a932be1",
   "metadata": {},
   "outputs": [],
   "source": []
  }
 ],
 "metadata": {
  "kernelspec": {
   "display_name": "Python 3 (ipykernel)",
   "language": "python",
   "name": "python3"
  },
  "language_info": {
   "codemirror_mode": {
    "name": "ipython",
    "version": 3
   },
   "file_extension": ".py",
   "mimetype": "text/x-python",
   "name": "python",
   "nbconvert_exporter": "python",
   "pygments_lexer": "ipython3",
   "version": "3.9.7"
  }
 },
 "nbformat": 4,
 "nbformat_minor": 5
}
