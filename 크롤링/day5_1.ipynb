{
 "cells": [
  {
   "cell_type": "code",
   "execution_count": 1,
   "id": "f7e0ae7b",
   "metadata": {},
   "outputs": [
    {
     "data": {
      "text/html": [
       "<style>.container { font-weight: bold !important; }</style>"
      ],
      "text/plain": [
       "<IPython.core.display.HTML object>"
      ]
     },
     "metadata": {},
     "output_type": "display_data"
    },
    {
     "data": {
      "text/html": [
       "<style>.container { width: 100% !important; }</style>"
      ],
      "text/plain": [
       "<IPython.core.display.HTML object>"
      ]
     },
     "metadata": {},
     "output_type": "display_data"
    }
   ],
   "source": [
    "# 쥬피터노트북 셀 스타일 조절 \n",
    "from IPython.core.display import display, HTML\n",
    "display(HTML(\"<style>.container { font-weight: bold !important; }</style>\"))\n",
    "display(HTML(\"<style>.container { width: 100% !important; }</style>\"))\n",
    "\n",
    "import warnings\n",
    "warnings.filterwarnings(action='ignore')"
   ]
  },
  {
   "cell_type": "code",
   "execution_count": 2,
   "id": "3c4b216c",
   "metadata": {},
   "outputs": [],
   "source": [
    "import requests\n",
    "import os\n",
    "from bs4 import BeautifulSoup\n",
    "import pandas as pd \n",
    "import numpy as np"
   ]
  },
  {
   "cell_type": "markdown",
   "id": "5ffda835",
   "metadata": {},
   "source": [
    "# 네이버 영화 댓글\n",
    "\n",
    "- 댓글 한페이지\n",
    "- 댓글 5페이지\n",
    "- 댓글 전체페이지\n",
    "```\n",
    "https://movie.naver.com/movie/point/af/list.naver?st=mcode&sword=167697&target=after&page=1\n",
    "```"
   ]
  },
  {
   "cell_type": "markdown",
   "id": "1721ef0e",
   "metadata": {},
   "source": [
    "### 댓글 한페이지"
   ]
  },
  {
   "cell_type": "code",
   "execution_count": 4,
   "id": "c68dfe95",
   "metadata": {},
   "outputs": [],
   "source": [
    "# url 요청 => response 객체 => html 페이지(텍스트)\n",
    "# html 페이지(텍스트) => Beautiful 객체화 \n",
    "\n",
    "url = 'https://movie.naver.com/movie/point/af/list.naver?st=mcode&sword=167697&target=after&page=1'\n",
    "res = requests.get(url)\n",
    "html_str = res.text\n",
    "\n",
    "soup = BeautifulSoup(html_str, 'html.parser')\n",
    "# soup"
   ]
  },
  {
   "cell_type": "code",
   "execution_count": 5,
   "id": "b35e819d",
   "metadata": {},
   "outputs": [
    {
     "data": {
      "text/plain": [
       "10"
      ]
     },
     "execution_count": 5,
     "metadata": {},
     "output_type": "execute_result"
    }
   ],
   "source": [
    "# 댓글 리스트 생성 \n",
    "# td_list = soup.find_all(class_='title')\n",
    "td_list = soup.select('.title')\n",
    "len(td_list)"
   ]
  },
  {
   "cell_type": "code",
   "execution_count": 6,
   "id": "700487fc",
   "metadata": {},
   "outputs": [
    {
     "data": {
      "text/plain": [
       "<td class=\"title\">\n",
       "<a class=\"movie color_b\" href=\"/movie/bi/mi/basic.naver?code=167697\">신과함께-인과 연</a>\n",
       "<div class=\"list_netizen_score\">\n",
       "<span class=\"st_off\"><span class=\"st_on\" style=\"width:90%\">별점 - 총 10점 중</span></span><em>9</em>\n",
       "</div>\n",
       "<br/>스토리와 볼거리 모두 충족 가능 \n",
       "\t\t\t\n",
       "\t\t\t\n",
       "\t\t\t\n",
       "\t\t\t\t\n",
       "\t\t\t\t\n",
       "\t\t\t\t\n",
       "\t\t\t\t<a class=\"report\" href=\"#\" onclick=\"report('poip****', '+ivQ7G5adzurVeIlWVUoxBDaA21mJGlz6/O6xVF46cc=', '스토리와 볼거리 모두 충족 가능', '17803660', 'point_after');\" style=\"color:#8F8F8F\" title=\"새 창\">신고</a>\n",
       "</td>"
      ]
     },
     "execution_count": 6,
     "metadata": {},
     "output_type": "execute_result"
    }
   ],
   "source": [
    "td_list[0]"
   ]
  },
  {
   "cell_type": "code",
   "execution_count": 14,
   "id": "6ed84cd1",
   "metadata": {},
   "outputs": [
    {
     "data": {
      "text/plain": [
       "('신과함께-인과 연', '/movie/bi/mi/basic.naver?code=167697', '스토리와 볼거리 모두 충족 가능', '9')"
      ]
     },
     "execution_count": 14,
     "metadata": {},
     "output_type": "execute_result"
    }
   ],
   "source": [
    "# 제목, URL, 댓글내용, 평점\n",
    "title = td_list[0].find('a').text\n",
    "# url = td_list[0].find('a').get('href')\n",
    "url = td_list[0].find('a')['href']\n",
    "# next_sibling 를 이용한 요소 탐색\n",
    "# 다음 형제요소 탐색 : soup.태그.next_sibling\n",
    "review = td_list[0].find('br').next_sibling.strip()\n",
    "point =  td_list[0].find('em').text\n",
    "title, url, review, point"
   ]
  },
  {
   "cell_type": "code",
   "execution_count": 15,
   "id": "e379aafb",
   "metadata": {},
   "outputs": [
    {
     "data": {
      "text/html": [
       "<div>\n",
       "<style scoped>\n",
       "    .dataframe tbody tr th:only-of-type {\n",
       "        vertical-align: middle;\n",
       "    }\n",
       "\n",
       "    .dataframe tbody tr th {\n",
       "        vertical-align: top;\n",
       "    }\n",
       "\n",
       "    .dataframe thead th {\n",
       "        text-align: right;\n",
       "    }\n",
       "</style>\n",
       "<table border=\"1\" class=\"dataframe\">\n",
       "  <thead>\n",
       "    <tr style=\"text-align: right;\">\n",
       "      <th></th>\n",
       "      <th>title</th>\n",
       "      <th>url</th>\n",
       "      <th>review</th>\n",
       "      <th>point</th>\n",
       "    </tr>\n",
       "  </thead>\n",
       "  <tbody>\n",
       "    <tr>\n",
       "      <th>0</th>\n",
       "      <td>신과함께-인과 연</td>\n",
       "      <td>https://movie.naver.com/movie/bi/mi/basic.nave...</td>\n",
       "      <td>스토리와 볼거리 모두 충족 가능</td>\n",
       "      <td>9</td>\n",
       "    </tr>\n",
       "    <tr>\n",
       "      <th>1</th>\n",
       "      <td>신과함께-인과 연</td>\n",
       "      <td>https://movie.naver.com/movie/bi/mi/basic.nave...</td>\n",
       "      <td>외국에서 혼영하러 갔는데 한국인 나밖에 없어서 외국인들은 다 안 우는데 나 혼자 콧...</td>\n",
       "      <td>10</td>\n",
       "    </tr>\n",
       "    <tr>\n",
       "      <th>2</th>\n",
       "      <td>신과함께-인과 연</td>\n",
       "      <td>https://movie.naver.com/movie/bi/mi/basic.nave...</td>\n",
       "      <td>스케일크게 실사화는 잘된것같아요.</td>\n",
       "      <td>8</td>\n",
       "    </tr>\n",
       "    <tr>\n",
       "      <th>3</th>\n",
       "      <td>신과함께-인과 연</td>\n",
       "      <td>https://movie.naver.com/movie/bi/mi/basic.nave...</td>\n",
       "      <td>신과함께 1보다 2가 훨씬 재밌었음 근데 너무 길어 .... 죄와 벌은  7점  인...</td>\n",
       "      <td>8</td>\n",
       "    </tr>\n",
       "    <tr>\n",
       "      <th>4</th>\n",
       "      <td>신과함께-인과 연</td>\n",
       "      <td>https://movie.naver.com/movie/bi/mi/basic.nave...</td>\n",
       "      <td>감동적인 편이고 평타는 칩니다.</td>\n",
       "      <td>8</td>\n",
       "    </tr>\n",
       "    <tr>\n",
       "      <th>5</th>\n",
       "      <td>신과함께-인과 연</td>\n",
       "      <td>https://movie.naver.com/movie/bi/mi/basic.nave...</td>\n",
       "      <td>이 세대도 꾸준히 리메이크될 수 있을지 궁금</td>\n",
       "      <td>7</td>\n",
       "    </tr>\n",
       "    <tr>\n",
       "      <th>6</th>\n",
       "      <td>신과함께-인과 연</td>\n",
       "      <td>https://movie.naver.com/movie/bi/mi/basic.nave...</td>\n",
       "      <td>적당히 만든 신파 공산품</td>\n",
       "      <td>7</td>\n",
       "    </tr>\n",
       "    <tr>\n",
       "      <th>7</th>\n",
       "      <td>신과함께-인과 연</td>\n",
       "      <td>https://movie.naver.com/movie/bi/mi/basic.nave...</td>\n",
       "      <td>마동석은 미래를 내다보았다.박스피가 3000을 뚫었고 qqq는 연일 최고가 갱신이다...</td>\n",
       "      <td>10</td>\n",
       "    </tr>\n",
       "    <tr>\n",
       "      <th>8</th>\n",
       "      <td>신과함께-인과 연</td>\n",
       "      <td>https://movie.naver.com/movie/bi/mi/basic.nave...</td>\n",
       "      <td>재미있게 잘 봤어용.</td>\n",
       "      <td>8</td>\n",
       "    </tr>\n",
       "    <tr>\n",
       "      <th>9</th>\n",
       "      <td>신과함께-인과 연</td>\n",
       "      <td>https://movie.naver.com/movie/bi/mi/basic.nave...</td>\n",
       "      <td>1편에 비해 감동씬은 많지 않았지만 그냥 너무 잘 만든 느낌. 1편 보고 2편까지 ...</td>\n",
       "      <td>10</td>\n",
       "    </tr>\n",
       "  </tbody>\n",
       "</table>\n",
       "</div>"
      ],
      "text/plain": [
       "       title                                                url  \\\n",
       "0  신과함께-인과 연  https://movie.naver.com/movie/bi/mi/basic.nave...   \n",
       "1  신과함께-인과 연  https://movie.naver.com/movie/bi/mi/basic.nave...   \n",
       "2  신과함께-인과 연  https://movie.naver.com/movie/bi/mi/basic.nave...   \n",
       "3  신과함께-인과 연  https://movie.naver.com/movie/bi/mi/basic.nave...   \n",
       "4  신과함께-인과 연  https://movie.naver.com/movie/bi/mi/basic.nave...   \n",
       "5  신과함께-인과 연  https://movie.naver.com/movie/bi/mi/basic.nave...   \n",
       "6  신과함께-인과 연  https://movie.naver.com/movie/bi/mi/basic.nave...   \n",
       "7  신과함께-인과 연  https://movie.naver.com/movie/bi/mi/basic.nave...   \n",
       "8  신과함께-인과 연  https://movie.naver.com/movie/bi/mi/basic.nave...   \n",
       "9  신과함께-인과 연  https://movie.naver.com/movie/bi/mi/basic.nave...   \n",
       "\n",
       "                                              review point  \n",
       "0                                  스토리와 볼거리 모두 충족 가능     9  \n",
       "1  외국에서 혼영하러 갔는데 한국인 나밖에 없어서 외국인들은 다 안 우는데 나 혼자 콧...    10  \n",
       "2                                 스케일크게 실사화는 잘된것같아요.     8  \n",
       "3  신과함께 1보다 2가 훨씬 재밌었음 근데 너무 길어 .... 죄와 벌은  7점  인...     8  \n",
       "4                                  감동적인 편이고 평타는 칩니다.     8  \n",
       "5                           이 세대도 꾸준히 리메이크될 수 있을지 궁금     7  \n",
       "6                                      적당히 만든 신파 공산품     7  \n",
       "7  마동석은 미래를 내다보았다.박스피가 3000을 뚫었고 qqq는 연일 최고가 갱신이다...    10  \n",
       "8                                        재미있게 잘 봤어용.     8  \n",
       "9  1편에 비해 감동씬은 많지 않았지만 그냥 너무 잘 만든 느낌. 1편 보고 2편까지 ...    10  "
      ]
     },
     "execution_count": 15,
     "metadata": {},
     "output_type": "execute_result"
    }
   ],
   "source": [
    "# 2차원 리스트 => 데이타프레임 \n",
    "base_url = 'https://movie.naver.com'\n",
    "temp_list = []\n",
    "for row in td_list:\n",
    "    title = row.find('a').text\n",
    "    url = base_url+row.find('a')['href']\n",
    "    review = row.find('br').next_sibling.strip()\n",
    "    point =  row.find('em').text\n",
    "    temp_list.append([title, url, review, point])\n",
    "\n",
    "# 데이타프레임으로 저장 \n",
    "df_movie = pd.DataFrame(temp_list, columns=['title', 'url', 'review', 'point'])\n",
    "df_movie"
   ]
  },
  {
   "cell_type": "markdown",
   "id": "6e9296cd",
   "metadata": {},
   "source": [
    "### 여러 페이지 저장 "
   ]
  },
  {
   "cell_type": "code",
   "execution_count": 19,
   "id": "5dfa2388",
   "metadata": {},
   "outputs": [
    {
     "name": "stdout",
     "output_type": "stream",
     "text": [
      "https://movie.naver.com/movie/point/af/list.naver?st=mcode&sword=167697&target=after&page=1\n",
      "https://movie.naver.com/movie/point/af/list.naver?st=mcode&sword=167697&target=after&page=2\n",
      "https://movie.naver.com/movie/point/af/list.naver?st=mcode&sword=167697&target=after&page=3\n",
      "https://movie.naver.com/movie/point/af/list.naver?st=mcode&sword=167697&target=after&page=4\n",
      "https://movie.naver.com/movie/point/af/list.naver?st=mcode&sword=167697&target=after&page=5\n"
     ]
    }
   ],
   "source": [
    "url = 'https://movie.naver.com/movie/point/af/list.naver?st=mcode&sword=167697&target=after&page='\n",
    "for i in range(1, n+1) :\n",
    "    url_page = url + str(i)\n",
    "    print(url_page)"
   ]
  },
  {
   "cell_type": "code",
   "execution_count": 24,
   "id": "1eb81a05",
   "metadata": {},
   "outputs": [
    {
     "name": "stdout",
     "output_type": "stream",
     "text": [
      "https://movie.naver.com/movie/point/af/list.naver?st=mcode&sword=167697&target=after&page=1\n",
      "https://movie.naver.com/movie/point/af/list.naver?st=mcode&sword=167697&target=after&page=2\n",
      "https://movie.naver.com/movie/point/af/list.naver?st=mcode&sword=167697&target=after&page=3\n",
      "https://movie.naver.com/movie/point/af/list.naver?st=mcode&sword=167697&target=after&page=4\n",
      "https://movie.naver.com/movie/point/af/list.naver?st=mcode&sword=167697&target=after&page=5\n"
     ]
    }
   ],
   "source": [
    "url = 'https://movie.naver.com/movie/point/af/list.naver?st=mcode&sword=167697&target=after&page='\n",
    "base_url = 'https://movie.naver.com'\n",
    "temp_list = []\n",
    "n = 5\n",
    "\n",
    "for i in range(1, n+1) :\n",
    "    # 주소 생성 \n",
    "    url_page = url + str(i)\n",
    "    print(url_page)\n",
    "    \n",
    "    res = requests.get(url_page)\n",
    "    html_str = res.text\n",
    "    soup = BeautifulSoup(html_str, 'html.parser')\n",
    "\n",
    "    # 댓글 리스트 생성 \n",
    "    td_list = soup.select('.title')\n",
    "\n",
    "    for row in td_list:\n",
    "        title = row.find('a').text\n",
    "        link =  row.find('a')['href']\n",
    "        review = row.find('br').next_sibling.strip()\n",
    "        point =  row.find('em').text\n",
    "        temp_list.append([title, link, review, point])\n",
    "\n",
    "# 데이타프레임으로 저장 \n",
    "df_movie2 = pd.DataFrame(temp_list, columns=['title', 'link', 'review', 'point'])\n"
   ]
  },
  {
   "cell_type": "code",
   "execution_count": 18,
   "id": "68a163bf",
   "metadata": {},
   "outputs": [
    {
     "data": {
      "text/html": [
       "<div>\n",
       "<style scoped>\n",
       "    .dataframe tbody tr th:only-of-type {\n",
       "        vertical-align: middle;\n",
       "    }\n",
       "\n",
       "    .dataframe tbody tr th {\n",
       "        vertical-align: top;\n",
       "    }\n",
       "\n",
       "    .dataframe thead th {\n",
       "        text-align: right;\n",
       "    }\n",
       "</style>\n",
       "<table border=\"1\" class=\"dataframe\">\n",
       "  <thead>\n",
       "    <tr style=\"text-align: right;\">\n",
       "      <th></th>\n",
       "      <th>title</th>\n",
       "      <th>url</th>\n",
       "      <th>review</th>\n",
       "      <th>point</th>\n",
       "    </tr>\n",
       "  </thead>\n",
       "  <tbody>\n",
       "    <tr>\n",
       "      <th>0</th>\n",
       "      <td>신과함께-인과 연</td>\n",
       "      <td>https://movie.naver.com/movie/bi/mi/basic.nave...</td>\n",
       "      <td>스토리와 볼거리 모두 충족 가능</td>\n",
       "      <td>9</td>\n",
       "    </tr>\n",
       "    <tr>\n",
       "      <th>1</th>\n",
       "      <td>신과함께-인과 연</td>\n",
       "      <td>https://movie.naver.com/movie/bi/mi/basic.nave...</td>\n",
       "      <td>외국에서 혼영하러 갔는데 한국인 나밖에 없어서 외국인들은 다 안 우는데 나 혼자 콧...</td>\n",
       "      <td>10</td>\n",
       "    </tr>\n",
       "    <tr>\n",
       "      <th>2</th>\n",
       "      <td>신과함께-인과 연</td>\n",
       "      <td>https://movie.naver.com/movie/bi/mi/basic.nave...</td>\n",
       "      <td>스케일크게 실사화는 잘된것같아요.</td>\n",
       "      <td>8</td>\n",
       "    </tr>\n",
       "    <tr>\n",
       "      <th>3</th>\n",
       "      <td>신과함께-인과 연</td>\n",
       "      <td>https://movie.naver.com/movie/bi/mi/basic.nave...</td>\n",
       "      <td>신과함께 1보다 2가 훨씬 재밌었음 근데 너무 길어 .... 죄와 벌은  7점  인...</td>\n",
       "      <td>8</td>\n",
       "    </tr>\n",
       "    <tr>\n",
       "      <th>4</th>\n",
       "      <td>신과함께-인과 연</td>\n",
       "      <td>https://movie.naver.com/movie/bi/mi/basic.nave...</td>\n",
       "      <td>감동적인 편이고 평타는 칩니다.</td>\n",
       "      <td>8</td>\n",
       "    </tr>\n",
       "    <tr>\n",
       "      <th>5</th>\n",
       "      <td>신과함께-인과 연</td>\n",
       "      <td>https://movie.naver.com/movie/bi/mi/basic.nave...</td>\n",
       "      <td>이 세대도 꾸준히 리메이크될 수 있을지 궁금</td>\n",
       "      <td>7</td>\n",
       "    </tr>\n",
       "    <tr>\n",
       "      <th>6</th>\n",
       "      <td>신과함께-인과 연</td>\n",
       "      <td>https://movie.naver.com/movie/bi/mi/basic.nave...</td>\n",
       "      <td>적당히 만든 신파 공산품</td>\n",
       "      <td>7</td>\n",
       "    </tr>\n",
       "    <tr>\n",
       "      <th>7</th>\n",
       "      <td>신과함께-인과 연</td>\n",
       "      <td>https://movie.naver.com/movie/bi/mi/basic.nave...</td>\n",
       "      <td>마동석은 미래를 내다보았다.박스피가 3000을 뚫었고 qqq는 연일 최고가 갱신이다...</td>\n",
       "      <td>10</td>\n",
       "    </tr>\n",
       "    <tr>\n",
       "      <th>8</th>\n",
       "      <td>신과함께-인과 연</td>\n",
       "      <td>https://movie.naver.com/movie/bi/mi/basic.nave...</td>\n",
       "      <td>재미있게 잘 봤어용.</td>\n",
       "      <td>8</td>\n",
       "    </tr>\n",
       "    <tr>\n",
       "      <th>9</th>\n",
       "      <td>신과함께-인과 연</td>\n",
       "      <td>https://movie.naver.com/movie/bi/mi/basic.nave...</td>\n",
       "      <td>1편에 비해 감동씬은 많지 않았지만 그냥 너무 잘 만든 느낌. 1편 보고 2편까지 ...</td>\n",
       "      <td>10</td>\n",
       "    </tr>\n",
       "  </tbody>\n",
       "</table>\n",
       "</div>"
      ],
      "text/plain": [
       "       title                                                url  \\\n",
       "0  신과함께-인과 연  https://movie.naver.com/movie/bi/mi/basic.nave...   \n",
       "1  신과함께-인과 연  https://movie.naver.com/movie/bi/mi/basic.nave...   \n",
       "2  신과함께-인과 연  https://movie.naver.com/movie/bi/mi/basic.nave...   \n",
       "3  신과함께-인과 연  https://movie.naver.com/movie/bi/mi/basic.nave...   \n",
       "4  신과함께-인과 연  https://movie.naver.com/movie/bi/mi/basic.nave...   \n",
       "5  신과함께-인과 연  https://movie.naver.com/movie/bi/mi/basic.nave...   \n",
       "6  신과함께-인과 연  https://movie.naver.com/movie/bi/mi/basic.nave...   \n",
       "7  신과함께-인과 연  https://movie.naver.com/movie/bi/mi/basic.nave...   \n",
       "8  신과함께-인과 연  https://movie.naver.com/movie/bi/mi/basic.nave...   \n",
       "9  신과함께-인과 연  https://movie.naver.com/movie/bi/mi/basic.nave...   \n",
       "\n",
       "                                              review point  \n",
       "0                                  스토리와 볼거리 모두 충족 가능     9  \n",
       "1  외국에서 혼영하러 갔는데 한국인 나밖에 없어서 외국인들은 다 안 우는데 나 혼자 콧...    10  \n",
       "2                                 스케일크게 실사화는 잘된것같아요.     8  \n",
       "3  신과함께 1보다 2가 훨씬 재밌었음 근데 너무 길어 .... 죄와 벌은  7점  인...     8  \n",
       "4                                  감동적인 편이고 평타는 칩니다.     8  \n",
       "5                           이 세대도 꾸준히 리메이크될 수 있을지 궁금     7  \n",
       "6                                      적당히 만든 신파 공산품     7  \n",
       "7  마동석은 미래를 내다보았다.박스피가 3000을 뚫었고 qqq는 연일 최고가 갱신이다...    10  \n",
       "8                                        재미있게 잘 봤어용.     8  \n",
       "9  1편에 비해 감동씬은 많지 않았지만 그냥 너무 잘 만든 느낌. 1편 보고 2편까지 ...    10  "
      ]
     },
     "execution_count": 18,
     "metadata": {},
     "output_type": "execute_result"
    }
   ],
   "source": [
    "df_movie2"
   ]
  },
  {
   "cell_type": "code",
   "execution_count": null,
   "id": "3720d309",
   "metadata": {},
   "outputs": [],
   "source": []
  }
 ],
 "metadata": {
  "kernelspec": {
   "display_name": "Python 3",
   "language": "python",
   "name": "python3"
  },
  "language_info": {
   "codemirror_mode": {
    "name": "ipython",
    "version": 3
   },
   "file_extension": ".py",
   "mimetype": "text/x-python",
   "name": "python",
   "nbconvert_exporter": "python",
   "pygments_lexer": "ipython3",
   "version": "3.8.8"
  }
 },
 "nbformat": 4,
 "nbformat_minor": 5
}
